{
 "metadata": {
  "language_info": {
   "codemirror_mode": {
    "name": "ipython",
    "version": 3
   },
   "file_extension": ".py",
   "mimetype": "text/x-python",
   "name": "python",
   "nbconvert_exporter": "python",
   "pygments_lexer": "ipython3",
   "version": "3.7.3-final"
  },
  "orig_nbformat": 2,
  "kernelspec": {
   "name": "python3",
   "display_name": "Python 3.7.3 64-bit",
   "metadata": {
    "interpreter": {
     "hash": "cbf51a2a14c586d5291331e7296f10f4c57288ef364409bd6d5208dc30c7c035"
    }
   }
  }
 },
 "nbformat": 4,
 "nbformat_minor": 2,
 "cells": [
  {
   "cell_type": "code",
   "execution_count": 1,
   "metadata": {},
   "outputs": [],
   "source": [
    "# biblioteker\n",
    "\n",
    "import os\n",
    "import shutil\n",
    "\n",
    "\"\"\"\n",
    "bruk tensorflow nightly:\n",
    "\n",
    "pip3 install -q tensorflow_text_nightly --user\n",
    "pip3 install -q tf-nightly --user\n",
    "\n",
    "\"\"\"\n",
    "\n",
    "import tensorflow as tf\n",
    "import tensorflow_hub as hub\n",
    "import tensorflow_text as text"
   ]
  },
  {
   "cell_type": "code",
   "execution_count": 2,
   "metadata": {},
   "outputs": [
    {
     "output_type": "stream",
     "name": "stdout",
     "text": [
      "Found 7641 files belonging to 7 classes.\n",
      "Using 6113 files for training.\n",
      "Found 7641 files belonging to 7 classes.\n",
      "Using 1528 files for validation.\n",
      "Found 1000 files belonging to 7 classes.\n"
     ]
    }
   ],
   "source": [
    "# laster inn og optimaliserer datasettene (se mer detaljert forklaring i selve modellen)\n",
    "AUTOTUNE = tf.data.AUTOTUNE\n",
    "\n",
    "batch_size = 32\n",
    "seed = 1337\n",
    "\n",
    "raw_train_ds = tf.keras.preprocessing.text_dataset_from_directory(\n",
    "    \"./data/train\",\n",
    "    batch_size=batch_size,\n",
    "    validation_split=0.0,\n",
    "    subset='training',\n",
    "    seed=seed\n",
    ")\n",
    "\n",
    "class_names = raw_train_ds.class_names\n",
    "train_ds = raw_train_ds.cache().prefetch(buffer_size=AUTOTUNE)\n",
    "\n"
   ]
  },
  {
   "cell_type": "code",
   "execution_count": 3,
   "metadata": {},
   "outputs": [],
   "source": [
    "# lag et datasett med bare tekst\n",
    "bert_dataset = raw_train_ds.map(lambda x, y: x)"
   ]
  },
  {
   "source": [
    "\n",
    "\n",
    "\n",
    "\n",
    "from tensorflow_text.tools.wordpiece_vocab import bert_vocab_from_dataset as bert_vocab\n",
    "\n",
    "# innstillinger for tokenizer\n",
    "# se mer detaljert forklaring i selve modellen\n",
    "bert_tokenizer_params=dict(lower_case=True)\n",
    "reserved_tokens=[\"[PAD]\", \"[UNK]\", \"[START]\", \"[END]\"]\n",
    "\n",
    "bert_vocab_args = dict(\n",
    "    vocab_size = 8000 * 7,\n",
    "    reserved_tokens=reserved_tokens,\n",
    "    bert_tokenizer_params=bert_tokenizer_params,\n",
    "    learn_params={},\n",
    ")\n",
    "\n",
    "# lager vokabularet baser på datasettet\n",
    "vocab = bert_vocab.bert_vocab_from_dataset(\n",
    "    bert_dataset,\n",
    "    **bert_vocab_args\n",
    ")\n",
    "\n"
   ],
   "cell_type": "code",
   "metadata": {},
   "execution_count": 4,
   "outputs": []
  },
  {
   "cell_type": "code",
   "execution_count": 6,
   "metadata": {},
   "outputs": [],
   "source": [
    "# lagrer vokabularet til en fil\n",
    "with open(f\"vocab.txt\", 'wb') as f:\n",
    "  for token in vocab:\n",
    "    f.write(token.encode() + b'\\n')\n",
    "\n",
    "\n"
   ]
  },
  {
   "cell_type": "code",
   "execution_count": null,
   "metadata": {},
   "outputs": [],
   "source": []
  }
 ]
}