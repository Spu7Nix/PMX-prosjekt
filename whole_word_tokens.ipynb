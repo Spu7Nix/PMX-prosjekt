{
 "metadata": {
  "language_info": {
   "codemirror_mode": {
    "name": "ipython",
    "version": 3
   },
   "file_extension": ".py",
   "mimetype": "text/x-python",
   "name": "python",
   "nbconvert_exporter": "python",
   "pygments_lexer": "ipython3",
   "version": "3.7.3-final"
  },
  "orig_nbformat": 2,
  "kernelspec": {
   "name": "python3",
   "display_name": "Python 3.7.3 64-bit",
   "metadata": {
    "interpreter": {
     "hash": "cbf51a2a14c586d5291331e7296f10f4c57288ef364409bd6d5208dc30c7c035"
    }
   }
  }
 },
 "nbformat": 4,
 "nbformat_minor": 2,
 "cells": [
  {
   "cell_type": "code",
   "execution_count": 1,
   "metadata": {},
   "outputs": [],
   "source": [
    "\n",
    "import os\n",
    "import re\n",
    "import shutil\n",
    "import string\n",
    "import tensorflow as tf\n",
    "\n",
    "from tensorflow.keras import layers\n",
    "from tensorflow.keras import losses\n",
    "from tensorflow.keras import preprocessing\n",
    "from tensorflow.keras.layers.experimental.preprocessing import TextVectorization\n"
   ]
  },
  {
   "cell_type": "code",
   "execution_count": 2,
   "metadata": {},
   "outputs": [
    {
     "output_type": "stream",
     "name": "stdout",
     "text": [
      "Found 18563 files belonging to 7 classes.\n",
      "Using 14851 files for training.\n",
      "Found 18563 files belonging to 7 classes.\n",
      "Using 3712 files for validation.\n",
      "Found 1903 files belonging to 7 classes.\n"
     ]
    }
   ],
   "source": [
    "batch_size = 32\n",
    "seed = 42\n",
    "\n",
    "raw_train_ds = tf.keras.preprocessing.text_dataset_from_directory(\n",
    "    \"./data/train\",\n",
    "    batch_size=batch_size,\n",
    "    validation_split=0.2,\n",
    "    subset='training',\n",
    "    seed=seed\n",
    ")\n",
    "\n",
    "raw_val_ds = tf.keras.preprocessing.text_dataset_from_directory(\n",
    "    './data/train',\n",
    "    batch_size=batch_size,\n",
    "    validation_split=0.2,\n",
    "    subset='validation',\n",
    "    seed=seed\n",
    ")\n",
    "\n",
    "raw_test_ds = tf.keras.preprocessing.text_dataset_from_directory(\n",
    "    './data/test',\n",
    "    batch_size=batch_size\n",
    ")\n"
   ]
  },
  {
   "cell_type": "code",
   "execution_count": 4,
   "metadata": {},
   "outputs": [],
   "source": [
    "max_features = 10000\n",
    "sequence_length = 250\n",
    "\n",
    "vectorize_layer = TextVectorization(\n",
    "    max_tokens=max_features,\n",
    "    output_mode='int',\n",
    "    output_sequence_length=sequence_length\n",
    ")\n"
   ]
  },
  {
   "cell_type": "code",
   "execution_count": 5,
   "metadata": {},
   "outputs": [],
   "source": [
    "# Make a text-only dataset (without labels), then call adapt\n",
    "train_text = raw_train_ds.map(lambda x, y: x)\n",
    "vectorize_layer.adapt(train_text)\n"
   ]
  },
  {
   "cell_type": "code",
   "execution_count": 5,
   "metadata": {},
   "outputs": [],
   "source": [
    "def vectorize_text(text, label):\n",
    "  text = tf.expand_dims(text, -1)\n",
    "  return vectorize_layer(text), label\n",
    "\n",
    "train_ds = raw_train_ds.map(vectorize_text)\n",
    "val_ds = raw_val_ds.map(vectorize_text)\n",
    "test_ds = raw_test_ds.map(vectorize_text)"
   ]
  },
  {
   "cell_type": "code",
   "execution_count": 6,
   "metadata": {},
   "outputs": [],
   "source": [
    "AUTOTUNE = tf.data.AUTOTUNE\n",
    "\n",
    "train_ds = train_ds.cache().prefetch(buffer_size=AUTOTUNE)\n",
    "val_ds = val_ds.cache().prefetch(buffer_size=AUTOTUNE)\n",
    "test_ds = test_ds.cache().prefetch(buffer_size=AUTOTUNE)\n"
   ]
  },
  {
   "cell_type": "code",
   "execution_count": 7,
   "metadata": {},
   "outputs": [
    {
     "output_type": "stream",
     "name": "stdout",
     "text": [
      "Model: \"sequential\"\n_________________________________________________________________\nLayer (type)                 Output Shape              Param #   \n=================================================================\nembedding (Embedding)        (None, None, 16)          160016    \n_________________________________________________________________\ndropout (Dropout)            (None, None, 16)          0         \n_________________________________________________________________\nglobal_average_pooling1d (Gl (None, 16)                0         \n_________________________________________________________________\ndropout_1 (Dropout)          (None, 16)                0         \n_________________________________________________________________\ndense (Dense)                (None, 7)                 119       \n=================================================================\nTotal params: 160,135\nTrainable params: 160,135\nNon-trainable params: 0\n_________________________________________________________________\n"
     ]
    }
   ],
   "source": [
    "embedding_dim = 16\n",
    "\n",
    "model = tf.keras.Sequential([\n",
    "  layers.Embedding(max_features + 1, embedding_dim),\n",
    "  layers.Dropout(0.2),\n",
    "  layers.GlobalAveragePooling1D(),\n",
    "  layers.Dropout(0.2),\n",
    "  layers.Dense(7)])\n",
    "\n",
    "model.summary()"
   ]
  },
  {
   "cell_type": "code",
   "execution_count": 8,
   "metadata": {},
   "outputs": [],
   "source": [
    "\n",
    "model.compile(\n",
    "    loss=losses.SparseCategoricalCrossentropy(from_logits=True), \n",
    "    optimizer='adam', \n",
    "    metrics=['accuracy'])\n"
   ]
  },
  {
   "cell_type": "code",
   "execution_count": 9,
   "metadata": {},
   "outputs": [
    {
     "output_type": "stream",
     "name": "stdout",
     "text": [
      "Epoch 1/100\n",
      "303/303 [==============================] - 15s 48ms/step - loss: 1.9249 - accuracy: 0.2035 - val_loss: 1.8993 - val_accuracy: 0.2102\n",
      "Epoch 2/100\n",
      "303/303 [==============================] - 1s 3ms/step - loss: 1.8865 - accuracy: 0.2167 - val_loss: 1.8770 - val_accuracy: 0.2115\n",
      "Epoch 3/100\n",
      "303/303 [==============================] - 1s 3ms/step - loss: 1.8591 - accuracy: 0.2273 - val_loss: 1.8372 - val_accuracy: 0.2412\n",
      "Epoch 4/100\n",
      "303/303 [==============================] - 1s 3ms/step - loss: 1.8144 - accuracy: 0.2756 - val_loss: 1.7802 - val_accuracy: 0.3147\n",
      "Epoch 5/100\n",
      "303/303 [==============================] - 1s 3ms/step - loss: 1.7539 - accuracy: 0.3445 - val_loss: 1.7122 - val_accuracy: 0.3784\n",
      "Epoch 6/100\n",
      "303/303 [==============================] - 1s 3ms/step - loss: 1.6839 - accuracy: 0.3959 - val_loss: 1.6419 - val_accuracy: 0.4308\n",
      "Epoch 7/100\n",
      "303/303 [==============================] - 1s 3ms/step - loss: 1.6164 - accuracy: 0.4385 - val_loss: 1.5749 - val_accuracy: 0.4725\n",
      "Epoch 8/100\n",
      "303/303 [==============================] - 1s 3ms/step - loss: 1.5529 - accuracy: 0.4685 - val_loss: 1.5145 - val_accuracy: 0.4870\n",
      "Epoch 9/100\n",
      "303/303 [==============================] - 1s 3ms/step - loss: 1.4940 - accuracy: 0.4964 - val_loss: 1.4610 - val_accuracy: 0.4866\n",
      "Epoch 10/100\n",
      "303/303 [==============================] - 1s 3ms/step - loss: 1.4449 - accuracy: 0.4988 - val_loss: 1.4131 - val_accuracy: 0.4952\n",
      "Epoch 11/100\n",
      "303/303 [==============================] - 1s 3ms/step - loss: 1.4000 - accuracy: 0.5096 - val_loss: 1.3704 - val_accuracy: 0.5089\n",
      "Epoch 12/100\n",
      "303/303 [==============================] - 1s 3ms/step - loss: 1.3598 - accuracy: 0.5174 - val_loss: 1.3325 - val_accuracy: 0.5163\n",
      "Epoch 13/100\n",
      "303/303 [==============================] - 1s 3ms/step - loss: 1.3230 - accuracy: 0.5345 - val_loss: 1.2985 - val_accuracy: 0.5291\n",
      "Epoch 14/100\n",
      "303/303 [==============================] - 1s 3ms/step - loss: 1.2925 - accuracy: 0.5377 - val_loss: 1.2685 - val_accuracy: 0.5415\n",
      "Epoch 15/100\n",
      "303/303 [==============================] - 1s 3ms/step - loss: 1.2638 - accuracy: 0.5432 - val_loss: 1.2409 - val_accuracy: 0.5535\n",
      "Epoch 16/100\n",
      "303/303 [==============================] - 1s 3ms/step - loss: 1.2366 - accuracy: 0.5555 - val_loss: 1.2161 - val_accuracy: 0.5539\n",
      "Epoch 17/100\n",
      "303/303 [==============================] - 1s 3ms/step - loss: 1.2112 - accuracy: 0.5604 - val_loss: 1.1936 - val_accuracy: 0.5547\n",
      "Epoch 18/100\n",
      "303/303 [==============================] - 1s 3ms/step - loss: 1.1917 - accuracy: 0.5650 - val_loss: 1.1720 - val_accuracy: 0.5725\n",
      "Epoch 19/100\n",
      "303/303 [==============================] - 1s 3ms/step - loss: 1.1675 - accuracy: 0.5755 - val_loss: 1.1527 - val_accuracy: 0.5857\n",
      "Epoch 20/100\n",
      "303/303 [==============================] - 1s 3ms/step - loss: 1.1503 - accuracy: 0.5854 - val_loss: 1.1347 - val_accuracy: 0.5898\n",
      "Epoch 21/100\n",
      "303/303 [==============================] - 1s 3ms/step - loss: 1.1308 - accuracy: 0.5972 - val_loss: 1.1169 - val_accuracy: 0.5919\n",
      "Epoch 22/100\n",
      "303/303 [==============================] - 1s 3ms/step - loss: 1.1135 - accuracy: 0.6022 - val_loss: 1.1014 - val_accuracy: 0.6047\n",
      "Epoch 23/100\n",
      "303/303 [==============================] - 1s 3ms/step - loss: 1.0966 - accuracy: 0.6102 - val_loss: 1.0854 - val_accuracy: 0.6109\n",
      "Epoch 24/100\n",
      "303/303 [==============================] - 1s 3ms/step - loss: 1.0806 - accuracy: 0.6167 - val_loss: 1.0708 - val_accuracy: 0.6249\n",
      "Epoch 25/100\n",
      "303/303 [==============================] - 1s 3ms/step - loss: 1.0665 - accuracy: 0.6287 - val_loss: 1.0570 - val_accuracy: 0.6212\n",
      "Epoch 26/100\n",
      "303/303 [==============================] - 1s 3ms/step - loss: 1.0498 - accuracy: 0.6349 - val_loss: 1.0435 - val_accuracy: 0.6481\n",
      "Epoch 27/100\n",
      "303/303 [==============================] - 1s 4ms/step - loss: 1.0353 - accuracy: 0.6504 - val_loss: 1.0309 - val_accuracy: 0.6481\n",
      "Epoch 28/100\n",
      "303/303 [==============================] - 1s 3ms/step - loss: 1.0226 - accuracy: 0.6486 - val_loss: 1.0185 - val_accuracy: 0.6493\n",
      "Epoch 29/100\n",
      "303/303 [==============================] - 1s 3ms/step - loss: 1.0073 - accuracy: 0.6559 - val_loss: 1.0069 - val_accuracy: 0.6514\n",
      "Epoch 30/100\n",
      "303/303 [==============================] - 1s 3ms/step - loss: 0.9949 - accuracy: 0.6655 - val_loss: 0.9952 - val_accuracy: 0.6646\n",
      "Epoch 31/100\n",
      "303/303 [==============================] - 1s 3ms/step - loss: 0.9800 - accuracy: 0.6766 - val_loss: 0.9839 - val_accuracy: 0.6894\n",
      "Epoch 32/100\n",
      "303/303 [==============================] - 1s 3ms/step - loss: 0.9720 - accuracy: 0.6846 - val_loss: 0.9728 - val_accuracy: 0.6832\n",
      "Epoch 33/100\n",
      "303/303 [==============================] - 1s 3ms/step - loss: 0.9575 - accuracy: 0.6953 - val_loss: 0.9623 - val_accuracy: 0.6815\n",
      "Epoch 34/100\n",
      "303/303 [==============================] - 1s 3ms/step - loss: 0.9439 - accuracy: 0.7007 - val_loss: 0.9527 - val_accuracy: 0.6956\n",
      "Epoch 35/100\n",
      "303/303 [==============================] - 1s 3ms/step - loss: 0.9346 - accuracy: 0.7093 - val_loss: 0.9435 - val_accuracy: 0.6993\n",
      "Epoch 36/100\n",
      "303/303 [==============================] - 1s 3ms/step - loss: 0.9200 - accuracy: 0.7222 - val_loss: 0.9339 - val_accuracy: 0.7038\n",
      "Epoch 37/100\n",
      "303/303 [==============================] - 1s 3ms/step - loss: 0.9132 - accuracy: 0.7259 - val_loss: 0.9245 - val_accuracy: 0.6914\n",
      "Epoch 38/100\n",
      "303/303 [==============================] - 1s 3ms/step - loss: 0.9024 - accuracy: 0.7286 - val_loss: 0.9157 - val_accuracy: 0.7237\n",
      "Epoch 39/100\n",
      "303/303 [==============================] - 1s 3ms/step - loss: 0.8892 - accuracy: 0.7442 - val_loss: 0.9082 - val_accuracy: 0.7100\n",
      "Epoch 40/100\n",
      "303/303 [==============================] - 1s 3ms/step - loss: 0.8834 - accuracy: 0.7456 - val_loss: 0.8992 - val_accuracy: 0.7369\n",
      "Epoch 41/100\n",
      "303/303 [==============================] - 1s 3ms/step - loss: 0.8704 - accuracy: 0.7611 - val_loss: 0.8909 - val_accuracy: 0.7522\n",
      "Epoch 42/100\n",
      "303/303 [==============================] - 1s 3ms/step - loss: 0.8590 - accuracy: 0.7620 - val_loss: 0.8831 - val_accuracy: 0.7456\n",
      "Epoch 43/100\n",
      "303/303 [==============================] - 1s 3ms/step - loss: 0.8512 - accuracy: 0.7651 - val_loss: 0.8767 - val_accuracy: 0.7497\n",
      "Epoch 44/100\n",
      "303/303 [==============================] - 1s 3ms/step - loss: 0.8389 - accuracy: 0.7736 - val_loss: 0.8692 - val_accuracy: 0.7410\n",
      "Epoch 45/100\n",
      "303/303 [==============================] - 1s 3ms/step - loss: 0.8302 - accuracy: 0.7770 - val_loss: 0.8622 - val_accuracy: 0.7451\n",
      "Epoch 46/100\n",
      "303/303 [==============================] - 1s 3ms/step - loss: 0.8201 - accuracy: 0.7825 - val_loss: 0.8549 - val_accuracy: 0.7588\n",
      "Epoch 47/100\n",
      "303/303 [==============================] - 1s 3ms/step - loss: 0.8097 - accuracy: 0.7907 - val_loss: 0.8480 - val_accuracy: 0.7732\n",
      "Epoch 48/100\n",
      "303/303 [==============================] - 1s 3ms/step - loss: 0.8027 - accuracy: 0.8053 - val_loss: 0.8424 - val_accuracy: 0.7646\n",
      "Epoch 49/100\n",
      "303/303 [==============================] - 1s 3ms/step - loss: 0.7969 - accuracy: 0.8083 - val_loss: 0.8350 - val_accuracy: 0.7741\n",
      "Epoch 50/100\n",
      "303/303 [==============================] - 1s 3ms/step - loss: 0.7844 - accuracy: 0.8064 - val_loss: 0.8283 - val_accuracy: 0.7703\n",
      "Epoch 51/100\n",
      "303/303 [==============================] - 1s 3ms/step - loss: 0.7782 - accuracy: 0.8205 - val_loss: 0.8231 - val_accuracy: 0.7794\n",
      "Epoch 52/100\n",
      "303/303 [==============================] - 1s 3ms/step - loss: 0.7633 - accuracy: 0.8237 - val_loss: 0.8180 - val_accuracy: 0.7745\n",
      "Epoch 53/100\n",
      "303/303 [==============================] - 1s 3ms/step - loss: 0.7628 - accuracy: 0.8212 - val_loss: 0.8110 - val_accuracy: 0.7877\n",
      "Epoch 54/100\n",
      "303/303 [==============================] - 1s 3ms/step - loss: 0.7492 - accuracy: 0.8343 - val_loss: 0.8053 - val_accuracy: 0.7827\n",
      "Epoch 55/100\n",
      "303/303 [==============================] - 1s 3ms/step - loss: 0.7446 - accuracy: 0.8330 - val_loss: 0.8005 - val_accuracy: 0.7811\n",
      "Epoch 56/100\n",
      "303/303 [==============================] - 1s 3ms/step - loss: 0.7371 - accuracy: 0.8335 - val_loss: 0.7950 - val_accuracy: 0.7831\n",
      "Epoch 57/100\n",
      "303/303 [==============================] - 1s 3ms/step - loss: 0.7279 - accuracy: 0.8441 - val_loss: 0.7898 - val_accuracy: 0.7865\n",
      "Epoch 58/100\n",
      "303/303 [==============================] - 1s 3ms/step - loss: 0.7212 - accuracy: 0.8426 - val_loss: 0.7838 - val_accuracy: 0.7753\n",
      "Epoch 59/100\n",
      "303/303 [==============================] - 1s 3ms/step - loss: 0.7123 - accuracy: 0.8364 - val_loss: 0.7797 - val_accuracy: 0.7893\n",
      "Epoch 60/100\n",
      "303/303 [==============================] - 1s 3ms/step - loss: 0.7026 - accuracy: 0.8492 - val_loss: 0.7739 - val_accuracy: 0.7910\n",
      "Epoch 61/100\n",
      "303/303 [==============================] - 1s 3ms/step - loss: 0.6964 - accuracy: 0.8589 - val_loss: 0.7705 - val_accuracy: 0.7873\n",
      "Epoch 62/100\n",
      "303/303 [==============================] - 1s 3ms/step - loss: 0.6887 - accuracy: 0.8613 - val_loss: 0.7652 - val_accuracy: 0.7976\n",
      "Epoch 63/100\n",
      "303/303 [==============================] - 1s 3ms/step - loss: 0.6823 - accuracy: 0.8593 - val_loss: 0.7610 - val_accuracy: 0.7881\n",
      "Epoch 64/100\n",
      "303/303 [==============================] - 1s 3ms/step - loss: 0.6746 - accuracy: 0.8652 - val_loss: 0.7568 - val_accuracy: 0.7947\n",
      "Epoch 65/100\n",
      "303/303 [==============================] - 1s 3ms/step - loss: 0.6658 - accuracy: 0.8694 - val_loss: 0.7521 - val_accuracy: 0.7860\n",
      "Epoch 66/100\n",
      "303/303 [==============================] - 1s 3ms/step - loss: 0.6578 - accuracy: 0.8706 - val_loss: 0.7479 - val_accuracy: 0.8005\n",
      "Epoch 67/100\n",
      "303/303 [==============================] - 1s 3ms/step - loss: 0.6531 - accuracy: 0.8695 - val_loss: 0.7431 - val_accuracy: 0.7906\n",
      "Epoch 68/100\n",
      "303/303 [==============================] - 1s 3ms/step - loss: 0.6462 - accuracy: 0.8775 - val_loss: 0.7396 - val_accuracy: 0.7997\n",
      "Epoch 69/100\n",
      "303/303 [==============================] - 1s 3ms/step - loss: 0.6390 - accuracy: 0.8760 - val_loss: 0.7350 - val_accuracy: 0.7960\n",
      "Epoch 70/100\n",
      "303/303 [==============================] - 1s 3ms/step - loss: 0.6323 - accuracy: 0.8792 - val_loss: 0.7322 - val_accuracy: 0.7960\n",
      "Epoch 71/100\n",
      "303/303 [==============================] - 1s 3ms/step - loss: 0.6265 - accuracy: 0.8815 - val_loss: 0.7273 - val_accuracy: 0.7918\n",
      "Epoch 72/100\n",
      "303/303 [==============================] - 1s 3ms/step - loss: 0.6175 - accuracy: 0.8828 - val_loss: 0.7247 - val_accuracy: 0.7939\n",
      "Epoch 73/100\n",
      "303/303 [==============================] - 1s 3ms/step - loss: 0.6118 - accuracy: 0.8836 - val_loss: 0.7200 - val_accuracy: 0.7964\n",
      "Epoch 74/100\n",
      "303/303 [==============================] - 1s 3ms/step - loss: 0.6047 - accuracy: 0.8857 - val_loss: 0.7173 - val_accuracy: 0.8059\n",
      "Epoch 75/100\n",
      "303/303 [==============================] - 1s 3ms/step - loss: 0.5996 - accuracy: 0.8830 - val_loss: 0.7132 - val_accuracy: 0.8055\n",
      "Epoch 76/100\n",
      "303/303 [==============================] - 1s 3ms/step - loss: 0.5892 - accuracy: 0.8897 - val_loss: 0.7093 - val_accuracy: 0.8017\n",
      "Epoch 77/100\n",
      "303/303 [==============================] - 1s 3ms/step - loss: 0.5849 - accuracy: 0.8901 - val_loss: 0.7066 - val_accuracy: 0.8042\n",
      "Epoch 78/100\n",
      "303/303 [==============================] - 1s 3ms/step - loss: 0.5769 - accuracy: 0.8918 - val_loss: 0.7025 - val_accuracy: 0.7993\n",
      "Epoch 79/100\n",
      "303/303 [==============================] - 1s 3ms/step - loss: 0.5717 - accuracy: 0.8945 - val_loss: 0.7007 - val_accuracy: 0.8075\n",
      "Epoch 80/100\n",
      "303/303 [==============================] - 1s 3ms/step - loss: 0.5647 - accuracy: 0.8956 - val_loss: 0.6967 - val_accuracy: 0.8013\n",
      "Epoch 81/100\n",
      "303/303 [==============================] - 1s 3ms/step - loss: 0.5593 - accuracy: 0.8983 - val_loss: 0.6945 - val_accuracy: 0.7997\n",
      "Epoch 82/100\n",
      "303/303 [==============================] - 1s 3ms/step - loss: 0.5508 - accuracy: 0.9000 - val_loss: 0.6909 - val_accuracy: 0.8050\n",
      "Epoch 83/100\n",
      "303/303 [==============================] - 1s 3ms/step - loss: 0.5481 - accuracy: 0.8989 - val_loss: 0.6879 - val_accuracy: 0.8013\n",
      "Epoch 84/100\n",
      "303/303 [==============================] - 1s 3ms/step - loss: 0.5416 - accuracy: 0.9010 - val_loss: 0.6864 - val_accuracy: 0.8026\n",
      "Epoch 85/100\n",
      "303/303 [==============================] - 1s 3ms/step - loss: 0.5364 - accuracy: 0.9006 - val_loss: 0.6836 - val_accuracy: 0.8017\n",
      "Epoch 86/100\n",
      "303/303 [==============================] - 1s 3ms/step - loss: 0.5325 - accuracy: 0.9058 - val_loss: 0.6801 - val_accuracy: 0.8063\n",
      "Epoch 87/100\n",
      "303/303 [==============================] - 1s 3ms/step - loss: 0.5221 - accuracy: 0.9030 - val_loss: 0.6764 - val_accuracy: 0.8067\n",
      "Epoch 88/100\n",
      "303/303 [==============================] - 1s 3ms/step - loss: 0.5181 - accuracy: 0.9036 - val_loss: 0.6750 - val_accuracy: 0.8021\n",
      "Epoch 89/100\n",
      "303/303 [==============================] - 1s 3ms/step - loss: 0.5088 - accuracy: 0.9037 - val_loss: 0.6723 - val_accuracy: 0.8038\n",
      "Epoch 90/100\n",
      "303/303 [==============================] - 1s 3ms/step - loss: 0.5053 - accuracy: 0.9076 - val_loss: 0.6691 - val_accuracy: 0.8026\n",
      "Epoch 91/100\n",
      "303/303 [==============================] - 1s 3ms/step - loss: 0.5000 - accuracy: 0.9068 - val_loss: 0.6666 - val_accuracy: 0.8055\n",
      "Epoch 92/100\n",
      "303/303 [==============================] - 1s 3ms/step - loss: 0.4974 - accuracy: 0.9044 - val_loss: 0.6650 - val_accuracy: 0.8009\n",
      "Epoch 93/100\n",
      "303/303 [==============================] - 1s 3ms/step - loss: 0.4887 - accuracy: 0.9093 - val_loss: 0.6628 - val_accuracy: 0.8059\n",
      "Epoch 94/100\n",
      "303/303 [==============================] - 1s 3ms/step - loss: 0.4809 - accuracy: 0.9128 - val_loss: 0.6593 - val_accuracy: 0.8034\n",
      "Epoch 95/100\n",
      "303/303 [==============================] - 1s 3ms/step - loss: 0.4805 - accuracy: 0.9048 - val_loss: 0.6588 - val_accuracy: 0.7997\n",
      "Epoch 96/100\n",
      "303/303 [==============================] - 1s 3ms/step - loss: 0.4702 - accuracy: 0.9102 - val_loss: 0.6555 - val_accuracy: 0.8038\n",
      "Epoch 97/100\n",
      "303/303 [==============================] - 1s 3ms/step - loss: 0.4683 - accuracy: 0.9149 - val_loss: 0.6551 - val_accuracy: 0.8079\n",
      "Epoch 98/100\n",
      "303/303 [==============================] - 1s 3ms/step - loss: 0.4668 - accuracy: 0.9108 - val_loss: 0.6519 - val_accuracy: 0.8021\n",
      "Epoch 99/100\n",
      "303/303 [==============================] - 1s 3ms/step - loss: 0.4598 - accuracy: 0.9102 - val_loss: 0.6493 - val_accuracy: 0.8100\n",
      "Epoch 100/100\n",
      "303/303 [==============================] - 1s 3ms/step - loss: 0.4573 - accuracy: 0.9117 - val_loss: 0.6471 - val_accuracy: 0.8075\n"
     ]
    }
   ],
   "source": [
    "epochs = 100\n",
    "history = model.fit(\n",
    "    train_ds,\n",
    "    validation_data=val_ds,\n",
    "    epochs=epochs)"
   ]
  },
  {
   "cell_type": "code",
   "execution_count": 10,
   "metadata": {},
   "outputs": [
    {
     "output_type": "stream",
     "name": "stdout",
     "text": [
      "32/32 [==============================] - 4s 96ms/step - loss: 0.7564 - accuracy: 0.7260\n",
      "Loss:  0.7564383149147034\n",
      "Accuracy:  0.7260000109672546\n"
     ]
    }
   ],
   "source": [
    "loss, accuracy = model.evaluate(test_ds)\n",
    "\n",
    "print(\"Loss: \", loss)\n",
    "print(\"Accuracy: \", accuracy)\n"
   ]
  },
  {
   "cell_type": "code",
   "execution_count": 11,
   "metadata": {},
   "outputs": [
    {
     "output_type": "stream",
     "name": "stdout",
     "text": [
      "32/32 [==============================] - 1s 12ms/step - loss: 0.7931 - accuracy: 0.7228\n",
      "0.7260000109672546\n"
     ]
    }
   ],
   "source": [
    "export_model = tf.keras.Sequential([\n",
    "  vectorize_layer,\n",
    "  model,\n",
    "  layers.Activation('sigmoid')\n",
    "])\n",
    "\n",
    "export_model.compile(\n",
    "    loss=losses.SparseCategoricalCrossentropy(from_logits=False), optimizer=\"adam\", metrics=['accuracy']\n",
    ")\n",
    "\n",
    "# Test it with `raw_test_ds`, which yields raw strings\n",
    "loss, accuracy = export_model.evaluate(raw_test_ds)\n",
    "print(accuracy)"
   ]
  },
  {
   "cell_type": "code",
   "execution_count": 28,
   "metadata": {},
   "outputs": [
    {
     "output_type": "stream",
     "name": "stdout",
     "text": [
      "da: 0.9862661361694336\nen: 5.708331585196902e-10\nes: 3.177326107106637e-06\nja: 0.000627666711807251\nnb: 0.9988806247711182\nnn: 0.9837482571601868\nsv: 0.5332168936729431\nResult: nb\n"
     ]
    }
   ],
   "source": [
    "\n",
    "\n",
    "inp = input(\"> \")\n",
    "result = export_model.predict([inp])[0]\n",
    "best_index = 0\n",
    "best_score = 0\n",
    "for i in range(len(result)):\n",
    "    print(f\"{raw_train_ds.class_names[i]}: {result[i]}\")\n",
    "    if result[i] > best_score:\n",
    "        best_score = result[i]\n",
    "        best_index = i\n",
    "print(\"Result: \" + raw_train_ds.class_names[best_index])"
   ]
  },
  {
   "cell_type": "code",
   "execution_count": null,
   "metadata": {},
   "outputs": [],
   "source": []
  }
 ]
}